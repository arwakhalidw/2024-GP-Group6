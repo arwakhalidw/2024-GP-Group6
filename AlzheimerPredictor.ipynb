{
  "nbformat": 4,
  "nbformat_minor": 0,
  "metadata": {
    "colab": {
      "provenance": [],
      "include_colab_link": true
    },
    "kernelspec": {
      "name": "python3",
      "display_name": "Python 3"
    },
    "language_info": {
      "name": "python"
    }
  },
  "cells": [
    {
      "cell_type": "markdown",
      "metadata": {
        "id": "view-in-github",
        "colab_type": "text"
      },
      "source": [
        "<a href=\"https://colab.research.google.com/github/arwakhalidw/2024-GP-Group6/blob/main/AlzheimerPredictor.ipynb\" target=\"_parent\"><img src=\"https://colab.research.google.com/assets/colab-badge.svg\" alt=\"Open In Colab\"/></a>"
      ]
    },
    {
      "cell_type": "code",
      "execution_count": null,
      "metadata": {
        "id": "LTC7ZLH5bBh1"
      },
      "outputs": [],
      "source": [
        "# @title import required libraries\n",
        "import pandas as pd\n",
        "import numpy as np\n",
        "from matplotlib import pyplot as plt\n",
        "import seaborn as sns\n",
        "from scipy.stats import shapiro"
      ]
    },
    {
      "cell_type": "code",
      "source": [
        "# @title reading and copying the dataset\n",
        "# read the dataset\n",
        "dataset = pd.read_csv(\"alzheimer.csv\")\n",
        "# copy the dataset\n",
        "dataframe = dataset.copy() # to keep the original dataset unchanged"
      ],
      "metadata": {
        "id": "C67m8J2abLET",
        "cellView": "form"
      },
      "execution_count": null,
      "outputs": []
    },
    {
      "cell_type": "markdown",
      "source": [
        "there are 10 features, they are as follows:\n",
        "1.  Group is the Class lable\n",
        "2.  M/F the gender of the patients\n",
        "3.  Age is the Age of the patient\n",
        "4.  EDUC are Years of Education\n",
        "5.  SES are Socioeconomic Status on a scale from 1 to 5\n",
        "6.  MMSE is Mini Mental State Examination\n",
        "7.  CDR is Clinical Dementia Rating\n",
        "8.  eTIV is Estimated total intracranial volume\n",
        "9.  nWBV is Normalize Whole Brain Volume\n",
        "10.  ASF is Atlas Scaling Factor\n",
        "\n",
        "\n",
        "\n",
        "\n",
        "\n"
      ],
      "metadata": {
        "id": "mMzCsE4BcTv9"
      }
    },
    {
      "cell_type": "code",
      "source": [
        "# @title check the data shape\n",
        "dataframe.shape"
      ],
      "metadata": {
        "id": "_UyKUKHwdsG8",
        "outputId": "9a627112-64c6-415a-f5ec-3b443c17238c",
        "colab": {
          "base_uri": "https://localhost:8080/"
        },
        "cellView": "form"
      },
      "execution_count": null,
      "outputs": [
        {
          "output_type": "execute_result",
          "data": {
            "text/plain": [
              "(373, 10)"
            ]
          },
          "metadata": {},
          "execution_count": 4
        }
      ]
    },
    {
      "cell_type": "code",
      "source": [
        "# @title display the first 5 rows\n",
        "dataframe.head()"
      ],
      "metadata": {
        "id": "9Vev4Eghz6sd",
        "outputId": "085b5852-5476-4c36-e22a-7f38e66f66f8",
        "colab": {
          "base_uri": "https://localhost:8080/",
          "height": 206
        },
        "cellView": "form"
      },
      "execution_count": null,
      "outputs": [
        {
          "output_type": "execute_result",
          "data": {
            "text/plain": [
              "         Group M/F  Age  EDUC  SES  MMSE  CDR  eTIV   nWBV    ASF\n",
              "0  Nondemented   M   87    14  2.0  27.0  0.0  1987  0.696  0.883\n",
              "1  Nondemented   M   88    14  2.0  30.0  0.0  2004  0.681  0.876\n",
              "2     Demented   M   75    12  NaN  23.0  0.5  1678  0.736  1.046\n",
              "3     Demented   M   76    12  NaN  28.0  0.5  1738  0.713  1.010\n",
              "4     Demented   M   80    12  NaN  22.0  0.5  1698  0.701  1.034"
            ],
            "text/html": [
              "\n",
              "  <div id=\"df-cfa5336f-7224-44e1-a77b-88fde2ec740c\" class=\"colab-df-container\">\n",
              "    <div>\n",
              "<style scoped>\n",
              "    .dataframe tbody tr th:only-of-type {\n",
              "        vertical-align: middle;\n",
              "    }\n",
              "\n",
              "    .dataframe tbody tr th {\n",
              "        vertical-align: top;\n",
              "    }\n",
              "\n",
              "    .dataframe thead th {\n",
              "        text-align: right;\n",
              "    }\n",
              "</style>\n",
              "<table border=\"1\" class=\"dataframe\">\n",
              "  <thead>\n",
              "    <tr style=\"text-align: right;\">\n",
              "      <th></th>\n",
              "      <th>Group</th>\n",
              "      <th>M/F</th>\n",
              "      <th>Age</th>\n",
              "      <th>EDUC</th>\n",
              "      <th>SES</th>\n",
              "      <th>MMSE</th>\n",
              "      <th>CDR</th>\n",
              "      <th>eTIV</th>\n",
              "      <th>nWBV</th>\n",
              "      <th>ASF</th>\n",
              "    </tr>\n",
              "  </thead>\n",
              "  <tbody>\n",
              "    <tr>\n",
              "      <th>0</th>\n",
              "      <td>Nondemented</td>\n",
              "      <td>M</td>\n",
              "      <td>87</td>\n",
              "      <td>14</td>\n",
              "      <td>2.0</td>\n",
              "      <td>27.0</td>\n",
              "      <td>0.0</td>\n",
              "      <td>1987</td>\n",
              "      <td>0.696</td>\n",
              "      <td>0.883</td>\n",
              "    </tr>\n",
              "    <tr>\n",
              "      <th>1</th>\n",
              "      <td>Nondemented</td>\n",
              "      <td>M</td>\n",
              "      <td>88</td>\n",
              "      <td>14</td>\n",
              "      <td>2.0</td>\n",
              "      <td>30.0</td>\n",
              "      <td>0.0</td>\n",
              "      <td>2004</td>\n",
              "      <td>0.681</td>\n",
              "      <td>0.876</td>\n",
              "    </tr>\n",
              "    <tr>\n",
              "      <th>2</th>\n",
              "      <td>Demented</td>\n",
              "      <td>M</td>\n",
              "      <td>75</td>\n",
              "      <td>12</td>\n",
              "      <td>NaN</td>\n",
              "      <td>23.0</td>\n",
              "      <td>0.5</td>\n",
              "      <td>1678</td>\n",
              "      <td>0.736</td>\n",
              "      <td>1.046</td>\n",
              "    </tr>\n",
              "    <tr>\n",
              "      <th>3</th>\n",
              "      <td>Demented</td>\n",
              "      <td>M</td>\n",
              "      <td>76</td>\n",
              "      <td>12</td>\n",
              "      <td>NaN</td>\n",
              "      <td>28.0</td>\n",
              "      <td>0.5</td>\n",
              "      <td>1738</td>\n",
              "      <td>0.713</td>\n",
              "      <td>1.010</td>\n",
              "    </tr>\n",
              "    <tr>\n",
              "      <th>4</th>\n",
              "      <td>Demented</td>\n",
              "      <td>M</td>\n",
              "      <td>80</td>\n",
              "      <td>12</td>\n",
              "      <td>NaN</td>\n",
              "      <td>22.0</td>\n",
              "      <td>0.5</td>\n",
              "      <td>1698</td>\n",
              "      <td>0.701</td>\n",
              "      <td>1.034</td>\n",
              "    </tr>\n",
              "  </tbody>\n",
              "</table>\n",
              "</div>\n",
              "    <div class=\"colab-df-buttons\">\n",
              "\n",
              "  <div class=\"colab-df-container\">\n",
              "    <button class=\"colab-df-convert\" onclick=\"convertToInteractive('df-cfa5336f-7224-44e1-a77b-88fde2ec740c')\"\n",
              "            title=\"Convert this dataframe to an interactive table.\"\n",
              "            style=\"display:none;\">\n",
              "\n",
              "  <svg xmlns=\"http://www.w3.org/2000/svg\" height=\"24px\" viewBox=\"0 -960 960 960\">\n",
              "    <path d=\"M120-120v-720h720v720H120Zm60-500h600v-160H180v160Zm220 220h160v-160H400v160Zm0 220h160v-160H400v160ZM180-400h160v-160H180v160Zm440 0h160v-160H620v160ZM180-180h160v-160H180v160Zm440 0h160v-160H620v160Z\"/>\n",
              "  </svg>\n",
              "    </button>\n",
              "\n",
              "  <style>\n",
              "    .colab-df-container {\n",
              "      display:flex;\n",
              "      gap: 12px;\n",
              "    }\n",
              "\n",
              "    .colab-df-convert {\n",
              "      background-color: #E8F0FE;\n",
              "      border: none;\n",
              "      border-radius: 50%;\n",
              "      cursor: pointer;\n",
              "      display: none;\n",
              "      fill: #1967D2;\n",
              "      height: 32px;\n",
              "      padding: 0 0 0 0;\n",
              "      width: 32px;\n",
              "    }\n",
              "\n",
              "    .colab-df-convert:hover {\n",
              "      background-color: #E2EBFA;\n",
              "      box-shadow: 0px 1px 2px rgba(60, 64, 67, 0.3), 0px 1px 3px 1px rgba(60, 64, 67, 0.15);\n",
              "      fill: #174EA6;\n",
              "    }\n",
              "\n",
              "    .colab-df-buttons div {\n",
              "      margin-bottom: 4px;\n",
              "    }\n",
              "\n",
              "    [theme=dark] .colab-df-convert {\n",
              "      background-color: #3B4455;\n",
              "      fill: #D2E3FC;\n",
              "    }\n",
              "\n",
              "    [theme=dark] .colab-df-convert:hover {\n",
              "      background-color: #434B5C;\n",
              "      box-shadow: 0px 1px 3px 1px rgba(0, 0, 0, 0.15);\n",
              "      filter: drop-shadow(0px 1px 2px rgba(0, 0, 0, 0.3));\n",
              "      fill: #FFFFFF;\n",
              "    }\n",
              "  </style>\n",
              "\n",
              "    <script>\n",
              "      const buttonEl =\n",
              "        document.querySelector('#df-cfa5336f-7224-44e1-a77b-88fde2ec740c button.colab-df-convert');\n",
              "      buttonEl.style.display =\n",
              "        google.colab.kernel.accessAllowed ? 'block' : 'none';\n",
              "\n",
              "      async function convertToInteractive(key) {\n",
              "        const element = document.querySelector('#df-cfa5336f-7224-44e1-a77b-88fde2ec740c');\n",
              "        const dataTable =\n",
              "          await google.colab.kernel.invokeFunction('convertToInteractive',\n",
              "                                                    [key], {});\n",
              "        if (!dataTable) return;\n",
              "\n",
              "        const docLinkHtml = 'Like what you see? Visit the ' +\n",
              "          '<a target=\"_blank\" href=https://colab.research.google.com/notebooks/data_table.ipynb>data table notebook</a>'\n",
              "          + ' to learn more about interactive tables.';\n",
              "        element.innerHTML = '';\n",
              "        dataTable['output_type'] = 'display_data';\n",
              "        await google.colab.output.renderOutput(dataTable, element);\n",
              "        const docLink = document.createElement('div');\n",
              "        docLink.innerHTML = docLinkHtml;\n",
              "        element.appendChild(docLink);\n",
              "      }\n",
              "    </script>\n",
              "  </div>\n",
              "\n",
              "\n",
              "<div id=\"df-8cd38f0e-1c44-41ab-9914-5fea1d94d9ae\">\n",
              "  <button class=\"colab-df-quickchart\" onclick=\"quickchart('df-8cd38f0e-1c44-41ab-9914-5fea1d94d9ae')\"\n",
              "            title=\"Suggest charts\"\n",
              "            style=\"display:none;\">\n",
              "\n",
              "<svg xmlns=\"http://www.w3.org/2000/svg\" height=\"24px\"viewBox=\"0 0 24 24\"\n",
              "     width=\"24px\">\n",
              "    <g>\n",
              "        <path d=\"M19 3H5c-1.1 0-2 .9-2 2v14c0 1.1.9 2 2 2h14c1.1 0 2-.9 2-2V5c0-1.1-.9-2-2-2zM9 17H7v-7h2v7zm4 0h-2V7h2v10zm4 0h-2v-4h2v4z\"/>\n",
              "    </g>\n",
              "</svg>\n",
              "  </button>\n",
              "\n",
              "<style>\n",
              "  .colab-df-quickchart {\n",
              "      --bg-color: #E8F0FE;\n",
              "      --fill-color: #1967D2;\n",
              "      --hover-bg-color: #E2EBFA;\n",
              "      --hover-fill-color: #174EA6;\n",
              "      --disabled-fill-color: #AAA;\n",
              "      --disabled-bg-color: #DDD;\n",
              "  }\n",
              "\n",
              "  [theme=dark] .colab-df-quickchart {\n",
              "      --bg-color: #3B4455;\n",
              "      --fill-color: #D2E3FC;\n",
              "      --hover-bg-color: #434B5C;\n",
              "      --hover-fill-color: #FFFFFF;\n",
              "      --disabled-bg-color: #3B4455;\n",
              "      --disabled-fill-color: #666;\n",
              "  }\n",
              "\n",
              "  .colab-df-quickchart {\n",
              "    background-color: var(--bg-color);\n",
              "    border: none;\n",
              "    border-radius: 50%;\n",
              "    cursor: pointer;\n",
              "    display: none;\n",
              "    fill: var(--fill-color);\n",
              "    height: 32px;\n",
              "    padding: 0;\n",
              "    width: 32px;\n",
              "  }\n",
              "\n",
              "  .colab-df-quickchart:hover {\n",
              "    background-color: var(--hover-bg-color);\n",
              "    box-shadow: 0 1px 2px rgba(60, 64, 67, 0.3), 0 1px 3px 1px rgba(60, 64, 67, 0.15);\n",
              "    fill: var(--button-hover-fill-color);\n",
              "  }\n",
              "\n",
              "  .colab-df-quickchart-complete:disabled,\n",
              "  .colab-df-quickchart-complete:disabled:hover {\n",
              "    background-color: var(--disabled-bg-color);\n",
              "    fill: var(--disabled-fill-color);\n",
              "    box-shadow: none;\n",
              "  }\n",
              "\n",
              "  .colab-df-spinner {\n",
              "    border: 2px solid var(--fill-color);\n",
              "    border-color: transparent;\n",
              "    border-bottom-color: var(--fill-color);\n",
              "    animation:\n",
              "      spin 1s steps(1) infinite;\n",
              "  }\n",
              "\n",
              "  @keyframes spin {\n",
              "    0% {\n",
              "      border-color: transparent;\n",
              "      border-bottom-color: var(--fill-color);\n",
              "      border-left-color: var(--fill-color);\n",
              "    }\n",
              "    20% {\n",
              "      border-color: transparent;\n",
              "      border-left-color: var(--fill-color);\n",
              "      border-top-color: var(--fill-color);\n",
              "    }\n",
              "    30% {\n",
              "      border-color: transparent;\n",
              "      border-left-color: var(--fill-color);\n",
              "      border-top-color: var(--fill-color);\n",
              "      border-right-color: var(--fill-color);\n",
              "    }\n",
              "    40% {\n",
              "      border-color: transparent;\n",
              "      border-right-color: var(--fill-color);\n",
              "      border-top-color: var(--fill-color);\n",
              "    }\n",
              "    60% {\n",
              "      border-color: transparent;\n",
              "      border-right-color: var(--fill-color);\n",
              "    }\n",
              "    80% {\n",
              "      border-color: transparent;\n",
              "      border-right-color: var(--fill-color);\n",
              "      border-bottom-color: var(--fill-color);\n",
              "    }\n",
              "    90% {\n",
              "      border-color: transparent;\n",
              "      border-bottom-color: var(--fill-color);\n",
              "    }\n",
              "  }\n",
              "</style>\n",
              "\n",
              "  <script>\n",
              "    async function quickchart(key) {\n",
              "      const quickchartButtonEl =\n",
              "        document.querySelector('#' + key + ' button');\n",
              "      quickchartButtonEl.disabled = true;  // To prevent multiple clicks.\n",
              "      quickchartButtonEl.classList.add('colab-df-spinner');\n",
              "      try {\n",
              "        const charts = await google.colab.kernel.invokeFunction(\n",
              "            'suggestCharts', [key], {});\n",
              "      } catch (error) {\n",
              "        console.error('Error during call to suggestCharts:', error);\n",
              "      }\n",
              "      quickchartButtonEl.classList.remove('colab-df-spinner');\n",
              "      quickchartButtonEl.classList.add('colab-df-quickchart-complete');\n",
              "    }\n",
              "    (() => {\n",
              "      let quickchartButtonEl =\n",
              "        document.querySelector('#df-8cd38f0e-1c44-41ab-9914-5fea1d94d9ae button');\n",
              "      quickchartButtonEl.style.display =\n",
              "        google.colab.kernel.accessAllowed ? 'block' : 'none';\n",
              "    })();\n",
              "  </script>\n",
              "</div>\n",
              "\n",
              "    </div>\n",
              "  </div>\n"
            ],
            "application/vnd.google.colaboratory.intrinsic+json": {
              "type": "dataframe",
              "variable_name": "dataframe",
              "summary": "{\n  \"name\": \"dataframe\",\n  \"rows\": 373,\n  \"fields\": [\n    {\n      \"column\": \"Group\",\n      \"properties\": {\n        \"dtype\": \"category\",\n        \"num_unique_values\": 3,\n        \"samples\": [\n          \"Nondemented\",\n          \"Demented\",\n          \"Converted\"\n        ],\n        \"semantic_type\": \"\",\n        \"description\": \"\"\n      }\n    },\n    {\n      \"column\": \"M/F\",\n      \"properties\": {\n        \"dtype\": \"category\",\n        \"num_unique_values\": 2,\n        \"samples\": [\n          \"F\",\n          \"M\"\n        ],\n        \"semantic_type\": \"\",\n        \"description\": \"\"\n      }\n    },\n    {\n      \"column\": \"Age\",\n      \"properties\": {\n        \"dtype\": \"number\",\n        \"std\": 7,\n        \"min\": 60,\n        \"max\": 98,\n        \"num_unique_values\": 39,\n        \"samples\": [\n          97,\n          63\n        ],\n        \"semantic_type\": \"\",\n        \"description\": \"\"\n      }\n    },\n    {\n      \"column\": \"EDUC\",\n      \"properties\": {\n        \"dtype\": \"number\",\n        \"std\": 2,\n        \"min\": 6,\n        \"max\": 23,\n        \"num_unique_values\": 12,\n        \"samples\": [\n          23,\n          15\n        ],\n        \"semantic_type\": \"\",\n        \"description\": \"\"\n      }\n    },\n    {\n      \"column\": \"SES\",\n      \"properties\": {\n        \"dtype\": \"number\",\n        \"std\": 1.1340048209544438,\n        \"min\": 1.0,\n        \"max\": 5.0,\n        \"num_unique_values\": 5,\n        \"samples\": [\n          3.0,\n          5.0\n        ],\n        \"semantic_type\": \"\",\n        \"description\": \"\"\n      }\n    },\n    {\n      \"column\": \"MMSE\",\n      \"properties\": {\n        \"dtype\": \"number\",\n        \"std\": 3.683243872307289,\n        \"min\": 4.0,\n        \"max\": 30.0,\n        \"num_unique_values\": 18,\n        \"samples\": [\n          27.0,\n          30.0\n        ],\n        \"semantic_type\": \"\",\n        \"description\": \"\"\n      }\n    },\n    {\n      \"column\": \"CDR\",\n      \"properties\": {\n        \"dtype\": \"number\",\n        \"std\": 0.3745571149682981,\n        \"min\": 0.0,\n        \"max\": 2.0,\n        \"num_unique_values\": 4,\n        \"samples\": [\n          0.5,\n          2.0\n        ],\n        \"semantic_type\": \"\",\n        \"description\": \"\"\n      }\n    },\n    {\n      \"column\": \"eTIV\",\n      \"properties\": {\n        \"dtype\": \"number\",\n        \"std\": 176,\n        \"min\": 1106,\n        \"max\": 2004,\n        \"num_unique_values\": 286,\n        \"samples\": [\n          1699,\n          1426\n        ],\n        \"semantic_type\": \"\",\n        \"description\": \"\"\n      }\n    },\n    {\n      \"column\": \"nWBV\",\n      \"properties\": {\n        \"dtype\": \"number\",\n        \"std\": 0.0371350161790646,\n        \"min\": 0.644,\n        \"max\": 0.837,\n        \"num_unique_values\": 136,\n        \"samples\": [\n          0.689,\n          0.817\n        ],\n        \"semantic_type\": \"\",\n        \"description\": \"\"\n      }\n    },\n    {\n      \"column\": \"ASF\",\n      \"properties\": {\n        \"dtype\": \"number\",\n        \"std\": 0.1380919582804859,\n        \"min\": 0.876,\n        \"max\": 1.587,\n        \"num_unique_values\": 265,\n        \"samples\": [\n          1.094,\n          0.897\n        ],\n        \"semantic_type\": \"\",\n        \"description\": \"\"\n      }\n    }\n  ]\n}"
            }
          },
          "metadata": {},
          "execution_count": 5
        }
      ]
    },
    {
      "cell_type": "code",
      "source": [
        "# @title describe the numeric values in the dataset\n",
        "dataframe.describe()"
      ],
      "metadata": {
        "id": "oOvUAiVT0OE1",
        "outputId": "313bcc92-a132-4a2f-9e06-42ce93053ed2",
        "colab": {
          "base_uri": "https://localhost:8080/",
          "height": 300
        },
        "cellView": "form"
      },
      "execution_count": null,
      "outputs": [
        {
          "output_type": "execute_result",
          "data": {
            "text/plain": [
              "              Age        EDUC         SES        MMSE         CDR  \\\n",
              "count  373.000000  373.000000  354.000000  371.000000  373.000000   \n",
              "mean    77.013405   14.597855    2.460452   27.342318    0.290885   \n",
              "std      7.640957    2.876339    1.134005    3.683244    0.374557   \n",
              "min     60.000000    6.000000    1.000000    4.000000    0.000000   \n",
              "25%     71.000000   12.000000    2.000000   27.000000    0.000000   \n",
              "50%     77.000000   15.000000    2.000000   29.000000    0.000000   \n",
              "75%     82.000000   16.000000    3.000000   30.000000    0.500000   \n",
              "max     98.000000   23.000000    5.000000   30.000000    2.000000   \n",
              "\n",
              "              eTIV        nWBV         ASF  \n",
              "count   373.000000  373.000000  373.000000  \n",
              "mean   1488.128686    0.729568    1.195461  \n",
              "std     176.139286    0.037135    0.138092  \n",
              "min    1106.000000    0.644000    0.876000  \n",
              "25%    1357.000000    0.700000    1.099000  \n",
              "50%    1470.000000    0.729000    1.194000  \n",
              "75%    1597.000000    0.756000    1.293000  \n",
              "max    2004.000000    0.837000    1.587000  "
            ],
            "text/html": [
              "\n",
              "  <div id=\"df-7257ca88-c86e-4b13-b859-7ce0f368be4c\" class=\"colab-df-container\">\n",
              "    <div>\n",
              "<style scoped>\n",
              "    .dataframe tbody tr th:only-of-type {\n",
              "        vertical-align: middle;\n",
              "    }\n",
              "\n",
              "    .dataframe tbody tr th {\n",
              "        vertical-align: top;\n",
              "    }\n",
              "\n",
              "    .dataframe thead th {\n",
              "        text-align: right;\n",
              "    }\n",
              "</style>\n",
              "<table border=\"1\" class=\"dataframe\">\n",
              "  <thead>\n",
              "    <tr style=\"text-align: right;\">\n",
              "      <th></th>\n",
              "      <th>Age</th>\n",
              "      <th>EDUC</th>\n",
              "      <th>SES</th>\n",
              "      <th>MMSE</th>\n",
              "      <th>CDR</th>\n",
              "      <th>eTIV</th>\n",
              "      <th>nWBV</th>\n",
              "      <th>ASF</th>\n",
              "    </tr>\n",
              "  </thead>\n",
              "  <tbody>\n",
              "    <tr>\n",
              "      <th>count</th>\n",
              "      <td>373.000000</td>\n",
              "      <td>373.000000</td>\n",
              "      <td>354.000000</td>\n",
              "      <td>371.000000</td>\n",
              "      <td>373.000000</td>\n",
              "      <td>373.000000</td>\n",
              "      <td>373.000000</td>\n",
              "      <td>373.000000</td>\n",
              "    </tr>\n",
              "    <tr>\n",
              "      <th>mean</th>\n",
              "      <td>77.013405</td>\n",
              "      <td>14.597855</td>\n",
              "      <td>2.460452</td>\n",
              "      <td>27.342318</td>\n",
              "      <td>0.290885</td>\n",
              "      <td>1488.128686</td>\n",
              "      <td>0.729568</td>\n",
              "      <td>1.195461</td>\n",
              "    </tr>\n",
              "    <tr>\n",
              "      <th>std</th>\n",
              "      <td>7.640957</td>\n",
              "      <td>2.876339</td>\n",
              "      <td>1.134005</td>\n",
              "      <td>3.683244</td>\n",
              "      <td>0.374557</td>\n",
              "      <td>176.139286</td>\n",
              "      <td>0.037135</td>\n",
              "      <td>0.138092</td>\n",
              "    </tr>\n",
              "    <tr>\n",
              "      <th>min</th>\n",
              "      <td>60.000000</td>\n",
              "      <td>6.000000</td>\n",
              "      <td>1.000000</td>\n",
              "      <td>4.000000</td>\n",
              "      <td>0.000000</td>\n",
              "      <td>1106.000000</td>\n",
              "      <td>0.644000</td>\n",
              "      <td>0.876000</td>\n",
              "    </tr>\n",
              "    <tr>\n",
              "      <th>25%</th>\n",
              "      <td>71.000000</td>\n",
              "      <td>12.000000</td>\n",
              "      <td>2.000000</td>\n",
              "      <td>27.000000</td>\n",
              "      <td>0.000000</td>\n",
              "      <td>1357.000000</td>\n",
              "      <td>0.700000</td>\n",
              "      <td>1.099000</td>\n",
              "    </tr>\n",
              "    <tr>\n",
              "      <th>50%</th>\n",
              "      <td>77.000000</td>\n",
              "      <td>15.000000</td>\n",
              "      <td>2.000000</td>\n",
              "      <td>29.000000</td>\n",
              "      <td>0.000000</td>\n",
              "      <td>1470.000000</td>\n",
              "      <td>0.729000</td>\n",
              "      <td>1.194000</td>\n",
              "    </tr>\n",
              "    <tr>\n",
              "      <th>75%</th>\n",
              "      <td>82.000000</td>\n",
              "      <td>16.000000</td>\n",
              "      <td>3.000000</td>\n",
              "      <td>30.000000</td>\n",
              "      <td>0.500000</td>\n",
              "      <td>1597.000000</td>\n",
              "      <td>0.756000</td>\n",
              "      <td>1.293000</td>\n",
              "    </tr>\n",
              "    <tr>\n",
              "      <th>max</th>\n",
              "      <td>98.000000</td>\n",
              "      <td>23.000000</td>\n",
              "      <td>5.000000</td>\n",
              "      <td>30.000000</td>\n",
              "      <td>2.000000</td>\n",
              "      <td>2004.000000</td>\n",
              "      <td>0.837000</td>\n",
              "      <td>1.587000</td>\n",
              "    </tr>\n",
              "  </tbody>\n",
              "</table>\n",
              "</div>\n",
              "    <div class=\"colab-df-buttons\">\n",
              "\n",
              "  <div class=\"colab-df-container\">\n",
              "    <button class=\"colab-df-convert\" onclick=\"convertToInteractive('df-7257ca88-c86e-4b13-b859-7ce0f368be4c')\"\n",
              "            title=\"Convert this dataframe to an interactive table.\"\n",
              "            style=\"display:none;\">\n",
              "\n",
              "  <svg xmlns=\"http://www.w3.org/2000/svg\" height=\"24px\" viewBox=\"0 -960 960 960\">\n",
              "    <path d=\"M120-120v-720h720v720H120Zm60-500h600v-160H180v160Zm220 220h160v-160H400v160Zm0 220h160v-160H400v160ZM180-400h160v-160H180v160Zm440 0h160v-160H620v160ZM180-180h160v-160H180v160Zm440 0h160v-160H620v160Z\"/>\n",
              "  </svg>\n",
              "    </button>\n",
              "\n",
              "  <style>\n",
              "    .colab-df-container {\n",
              "      display:flex;\n",
              "      gap: 12px;\n",
              "    }\n",
              "\n",
              "    .colab-df-convert {\n",
              "      background-color: #E8F0FE;\n",
              "      border: none;\n",
              "      border-radius: 50%;\n",
              "      cursor: pointer;\n",
              "      display: none;\n",
              "      fill: #1967D2;\n",
              "      height: 32px;\n",
              "      padding: 0 0 0 0;\n",
              "      width: 32px;\n",
              "    }\n",
              "\n",
              "    .colab-df-convert:hover {\n",
              "      background-color: #E2EBFA;\n",
              "      box-shadow: 0px 1px 2px rgba(60, 64, 67, 0.3), 0px 1px 3px 1px rgba(60, 64, 67, 0.15);\n",
              "      fill: #174EA6;\n",
              "    }\n",
              "\n",
              "    .colab-df-buttons div {\n",
              "      margin-bottom: 4px;\n",
              "    }\n",
              "\n",
              "    [theme=dark] .colab-df-convert {\n",
              "      background-color: #3B4455;\n",
              "      fill: #D2E3FC;\n",
              "    }\n",
              "\n",
              "    [theme=dark] .colab-df-convert:hover {\n",
              "      background-color: #434B5C;\n",
              "      box-shadow: 0px 1px 3px 1px rgba(0, 0, 0, 0.15);\n",
              "      filter: drop-shadow(0px 1px 2px rgba(0, 0, 0, 0.3));\n",
              "      fill: #FFFFFF;\n",
              "    }\n",
              "  </style>\n",
              "\n",
              "    <script>\n",
              "      const buttonEl =\n",
              "        document.querySelector('#df-7257ca88-c86e-4b13-b859-7ce0f368be4c button.colab-df-convert');\n",
              "      buttonEl.style.display =\n",
              "        google.colab.kernel.accessAllowed ? 'block' : 'none';\n",
              "\n",
              "      async function convertToInteractive(key) {\n",
              "        const element = document.querySelector('#df-7257ca88-c86e-4b13-b859-7ce0f368be4c');\n",
              "        const dataTable =\n",
              "          await google.colab.kernel.invokeFunction('convertToInteractive',\n",
              "                                                    [key], {});\n",
              "        if (!dataTable) return;\n",
              "\n",
              "        const docLinkHtml = 'Like what you see? Visit the ' +\n",
              "          '<a target=\"_blank\" href=https://colab.research.google.com/notebooks/data_table.ipynb>data table notebook</a>'\n",
              "          + ' to learn more about interactive tables.';\n",
              "        element.innerHTML = '';\n",
              "        dataTable['output_type'] = 'display_data';\n",
              "        await google.colab.output.renderOutput(dataTable, element);\n",
              "        const docLink = document.createElement('div');\n",
              "        docLink.innerHTML = docLinkHtml;\n",
              "        element.appendChild(docLink);\n",
              "      }\n",
              "    </script>\n",
              "  </div>\n",
              "\n",
              "\n",
              "<div id=\"df-d7f33fad-5093-4426-a64b-06d1d9e16b6c\">\n",
              "  <button class=\"colab-df-quickchart\" onclick=\"quickchart('df-d7f33fad-5093-4426-a64b-06d1d9e16b6c')\"\n",
              "            title=\"Suggest charts\"\n",
              "            style=\"display:none;\">\n",
              "\n",
              "<svg xmlns=\"http://www.w3.org/2000/svg\" height=\"24px\"viewBox=\"0 0 24 24\"\n",
              "     width=\"24px\">\n",
              "    <g>\n",
              "        <path d=\"M19 3H5c-1.1 0-2 .9-2 2v14c0 1.1.9 2 2 2h14c1.1 0 2-.9 2-2V5c0-1.1-.9-2-2-2zM9 17H7v-7h2v7zm4 0h-2V7h2v10zm4 0h-2v-4h2v4z\"/>\n",
              "    </g>\n",
              "</svg>\n",
              "  </button>\n",
              "\n",
              "<style>\n",
              "  .colab-df-quickchart {\n",
              "      --bg-color: #E8F0FE;\n",
              "      --fill-color: #1967D2;\n",
              "      --hover-bg-color: #E2EBFA;\n",
              "      --hover-fill-color: #174EA6;\n",
              "      --disabled-fill-color: #AAA;\n",
              "      --disabled-bg-color: #DDD;\n",
              "  }\n",
              "\n",
              "  [theme=dark] .colab-df-quickchart {\n",
              "      --bg-color: #3B4455;\n",
              "      --fill-color: #D2E3FC;\n",
              "      --hover-bg-color: #434B5C;\n",
              "      --hover-fill-color: #FFFFFF;\n",
              "      --disabled-bg-color: #3B4455;\n",
              "      --disabled-fill-color: #666;\n",
              "  }\n",
              "\n",
              "  .colab-df-quickchart {\n",
              "    background-color: var(--bg-color);\n",
              "    border: none;\n",
              "    border-radius: 50%;\n",
              "    cursor: pointer;\n",
              "    display: none;\n",
              "    fill: var(--fill-color);\n",
              "    height: 32px;\n",
              "    padding: 0;\n",
              "    width: 32px;\n",
              "  }\n",
              "\n",
              "  .colab-df-quickchart:hover {\n",
              "    background-color: var(--hover-bg-color);\n",
              "    box-shadow: 0 1px 2px rgba(60, 64, 67, 0.3), 0 1px 3px 1px rgba(60, 64, 67, 0.15);\n",
              "    fill: var(--button-hover-fill-color);\n",
              "  }\n",
              "\n",
              "  .colab-df-quickchart-complete:disabled,\n",
              "  .colab-df-quickchart-complete:disabled:hover {\n",
              "    background-color: var(--disabled-bg-color);\n",
              "    fill: var(--disabled-fill-color);\n",
              "    box-shadow: none;\n",
              "  }\n",
              "\n",
              "  .colab-df-spinner {\n",
              "    border: 2px solid var(--fill-color);\n",
              "    border-color: transparent;\n",
              "    border-bottom-color: var(--fill-color);\n",
              "    animation:\n",
              "      spin 1s steps(1) infinite;\n",
              "  }\n",
              "\n",
              "  @keyframes spin {\n",
              "    0% {\n",
              "      border-color: transparent;\n",
              "      border-bottom-color: var(--fill-color);\n",
              "      border-left-color: var(--fill-color);\n",
              "    }\n",
              "    20% {\n",
              "      border-color: transparent;\n",
              "      border-left-color: var(--fill-color);\n",
              "      border-top-color: var(--fill-color);\n",
              "    }\n",
              "    30% {\n",
              "      border-color: transparent;\n",
              "      border-left-color: var(--fill-color);\n",
              "      border-top-color: var(--fill-color);\n",
              "      border-right-color: var(--fill-color);\n",
              "    }\n",
              "    40% {\n",
              "      border-color: transparent;\n",
              "      border-right-color: var(--fill-color);\n",
              "      border-top-color: var(--fill-color);\n",
              "    }\n",
              "    60% {\n",
              "      border-color: transparent;\n",
              "      border-right-color: var(--fill-color);\n",
              "    }\n",
              "    80% {\n",
              "      border-color: transparent;\n",
              "      border-right-color: var(--fill-color);\n",
              "      border-bottom-color: var(--fill-color);\n",
              "    }\n",
              "    90% {\n",
              "      border-color: transparent;\n",
              "      border-bottom-color: var(--fill-color);\n",
              "    }\n",
              "  }\n",
              "</style>\n",
              "\n",
              "  <script>\n",
              "    async function quickchart(key) {\n",
              "      const quickchartButtonEl =\n",
              "        document.querySelector('#' + key + ' button');\n",
              "      quickchartButtonEl.disabled = true;  // To prevent multiple clicks.\n",
              "      quickchartButtonEl.classList.add('colab-df-spinner');\n",
              "      try {\n",
              "        const charts = await google.colab.kernel.invokeFunction(\n",
              "            'suggestCharts', [key], {});\n",
              "      } catch (error) {\n",
              "        console.error('Error during call to suggestCharts:', error);\n",
              "      }\n",
              "      quickchartButtonEl.classList.remove('colab-df-spinner');\n",
              "      quickchartButtonEl.classList.add('colab-df-quickchart-complete');\n",
              "    }\n",
              "    (() => {\n",
              "      let quickchartButtonEl =\n",
              "        document.querySelector('#df-d7f33fad-5093-4426-a64b-06d1d9e16b6c button');\n",
              "      quickchartButtonEl.style.display =\n",
              "        google.colab.kernel.accessAllowed ? 'block' : 'none';\n",
              "    })();\n",
              "  </script>\n",
              "</div>\n",
              "\n",
              "    </div>\n",
              "  </div>\n"
            ],
            "application/vnd.google.colaboratory.intrinsic+json": {
              "type": "dataframe",
              "summary": "{\n  \"name\": \"dataframe\",\n  \"rows\": 8,\n  \"fields\": [\n    {\n      \"column\": \"Age\",\n      \"properties\": {\n        \"dtype\": \"number\",\n        \"std\": 111.24300056884536,\n        \"min\": 7.640957297993596,\n        \"max\": 373.0,\n        \"num_unique_values\": 8,\n        \"samples\": [\n          77.01340482573727,\n          77.0,\n          373.0\n        ],\n        \"semantic_type\": \"\",\n        \"description\": \"\"\n      }\n    },\n    {\n      \"column\": \"EDUC\",\n      \"properties\": {\n        \"dtype\": \"number\",\n        \"std\": 127.50634332193104,\n        \"min\": 2.8763394655221375,\n        \"max\": 373.0,\n        \"num_unique_values\": 8,\n        \"samples\": [\n          14.597855227882038,\n          15.0,\n          373.0\n        ],\n        \"semantic_type\": \"\",\n        \"description\": \"\"\n      }\n    },\n    {\n      \"column\": \"SES\",\n      \"properties\": {\n        \"dtype\": \"number\",\n        \"std\": 124.32607378793332,\n        \"min\": 1.0,\n        \"max\": 354.0,\n        \"num_unique_values\": 7,\n        \"samples\": [\n          354.0,\n          2.4604519774011298,\n          3.0\n        ],\n        \"semantic_type\": \"\",\n        \"description\": \"\"\n      }\n    },\n    {\n      \"column\": \"MMSE\",\n      \"properties\": {\n        \"dtype\": \"number\",\n        \"std\": 124.0531756537883,\n        \"min\": 3.683243872307289,\n        \"max\": 371.0,\n        \"num_unique_values\": 7,\n        \"samples\": [\n          371.0,\n          27.342318059299192,\n          29.0\n        ],\n        \"semantic_type\": \"\",\n        \"description\": \"\"\n      }\n    },\n    {\n      \"column\": \"CDR\",\n      \"properties\": {\n        \"dtype\": \"number\",\n        \"std\": 131.71718618379245,\n        \"min\": 0.0,\n        \"max\": 373.0,\n        \"num_unique_values\": 6,\n        \"samples\": [\n          373.0,\n          0.29088471849865954,\n          2.0\n        ],\n        \"semantic_type\": \"\",\n        \"description\": \"\"\n      }\n    },\n    {\n      \"column\": \"eTIV\",\n      \"properties\": {\n        \"dtype\": \"number\",\n        \"std\": 623.990008083213,\n        \"min\": 176.13928554255483,\n        \"max\": 2004.0,\n        \"num_unique_values\": 8,\n        \"samples\": [\n          1488.1286863270777,\n          1470.0,\n          373.0\n        ],\n        \"semantic_type\": \"\",\n        \"description\": \"\"\n      }\n    },\n    {\n      \"column\": \"nWBV\",\n      \"properties\": {\n        \"dtype\": \"number\",\n        \"std\": 131.6517653472554,\n        \"min\": 0.0371350161790646,\n        \"max\": 373.0,\n        \"num_unique_values\": 8,\n        \"samples\": [\n          0.7295683646112601,\n          0.729,\n          373.0\n        ],\n        \"semantic_type\": \"\",\n        \"description\": \"\"\n      }\n    },\n    {\n      \"column\": \"ASF\",\n      \"properties\": {\n        \"dtype\": \"number\",\n        \"std\": 131.50322027090536,\n        \"min\": 0.1380919582804859,\n        \"max\": 373.0,\n        \"num_unique_values\": 8,\n        \"samples\": [\n          1.1954611260053618,\n          1.194,\n          373.0\n        ],\n        \"semantic_type\": \"\",\n        \"description\": \"\"\n      }\n    }\n  ]\n}"
            }
          },
          "metadata": {},
          "execution_count": 5
        }
      ]
    },
    {
      "cell_type": "code",
      "source": [
        "# @title check if any column has null value in the dataset\n",
        "dataframe.isnull().any()"
      ],
      "metadata": {
        "id": "FSrjTePF0S-B",
        "outputId": "75d5c65b-9022-4a88-d055-df9145429a5e",
        "colab": {
          "base_uri": "https://localhost:8080/"
        },
        "cellView": "form"
      },
      "execution_count": null,
      "outputs": [
        {
          "output_type": "execute_result",
          "data": {
            "text/plain": [
              "Group    False\n",
              "M/F      False\n",
              "Age      False\n",
              "EDUC     False\n",
              "SES       True\n",
              "MMSE      True\n",
              "CDR      False\n",
              "eTIV     False\n",
              "nWBV     False\n",
              "ASF      False\n",
              "dtype: bool"
            ]
          },
          "metadata": {},
          "execution_count": 6
        }
      ]
    },
    {
      "cell_type": "markdown",
      "source": [
        "# visualization"
      ],
      "metadata": {
        "id": "fzptO3Iv6_AR"
      }
    },
    {
      "source": [
        "# @title Group\n",
        "\n",
        "dataframe.groupby('Group').size().plot(kind='barh', color=sns.palettes.mpl_palette('Dark2'))\n",
        "plt.gca().spines[['top', 'right',]].set_visible(False)"
      ],
      "cell_type": "code",
      "execution_count": null,
      "outputs": [
        {
          "output_type": "display_data",
          "data": {
            "text/plain": [
              "<Figure size 640x480 with 1 Axes>"
            ],
            "image/png": "[encoded data removed]"
          },
          "metadata": {}
        }
      ],
      "metadata": {
        "id": "7ESZeXBc1EOf",
        "outputId": "c7b70302-c76b-4a83-c61f-32d842d61abc",
        "colab": {
          "base_uri": "https://localhost:8080/",
          "height": 430
        }
      }
    },
    {
      "source": [
        "# @title M/F\n",
        "\n",
        "dataframe.groupby('M/F').size().plot(kind='barh', color=sns.palettes.mpl_palette('Dark2'))\n",
        "plt.gca().spines[['top', 'right',]].set_visible(False)"
      ],
      "cell_type": "code",
      "execution_count": null,
      "outputs": [
        {
          "output_type": "display_data",
          "data": {
            "text/plain": [
              "<Figure size 640x480 with 1 Axes>"
            ],
            "image/png": "[encoded data removed]"
          },
          "metadata": {}
        }
      ],
      "metadata": {
        "id": "uaaNmwCO1VEL",
        "outputId": "ec8933ee-0978-4c60-937d-f706778708e9",
        "colab": {
          "base_uri": "https://localhost:8080/",
          "height": 430
        },
        "cellView": "form"
      }
    },
    {
      "source": [
        "# @title Age\n",
        "\n",
        "dataframe['Age'].plot(kind='hist', bins=20, title='Age')\n",
        "plt.gca().spines[['top', 'right',]].set_visible(False)"
      ],
      "cell_type": "code",
      "execution_count": null,
      "outputs": [
        {
          "output_type": "display_data",
          "data": {
            "text/plain": [
              "<Figure size 640x480 with 1 Axes>"
            ],
            "image/png": "[encoded data removed]"
          },
          "metadata": {}
        }
      ],
      "metadata": {
        "id": "RbOhrqPz0wyx",
        "outputId": "c22c2356-47ae-4939-e1c2-bd2c70fa794c",
        "colab": {
          "base_uri": "https://localhost:8080/",
          "height": 452
        },
        "cellView": "form"
      }
    },
    {
      "source": [
        "# @title EDUC\n",
        "\n",
        "dataframe['EDUC'].plot(kind='hist', bins=20, title='EDUC')\n",
        "plt.gca().spines[['top', 'right',]].set_visible(False)"
      ],
      "cell_type": "code",
      "execution_count": null,
      "outputs": [
        {
          "output_type": "display_data",
          "data": {
            "text/plain": [
              "<Figure size 640x480 with 1 Axes>"
            ],
            "image/png": "[encoded data removed]"
          },
          "metadata": {}
        }
      ],
      "metadata": {
        "id": "B1ICYltK07-r",
        "outputId": "764c1a27-61f5-4ec3-b6d8-0058f178b84e",
        "colab": {
          "base_uri": "https://localhost:8080/",
          "height": 452
        },
        "cellView": "form"
      }
    },
    {
      "source": [
        "# @title SES\n",
        "\n",
        "dataframe['SES'].plot(kind='hist', bins=20, title='SES')\n",
        "plt.gca().spines[['top', 'right',]].set_visible(False)"
      ],
      "cell_type": "code",
      "execution_count": null,
      "outputs": [
        {
          "output_type": "display_data",
          "data": {
            "text/plain": [
              "<Figure size 640x480 with 1 Axes>"
            ],
            "image/png": "[encoded data removed]"
          },
          "metadata": {}
        }
      ],
      "metadata": {
        "id": "-OUNWB4u0-xQ",
        "outputId": "13b4ba70-0dae-4d90-f199-e5f019325460",
        "colab": {
          "base_uri": "https://localhost:8080/",
          "height": 452
        },
        "cellView": "form"
      }
    },
    {
      "source": [
        "# @title MMSE\n",
        "\n",
        "dataframe['MMSE'].plot(kind='hist', bins=20, title='MMSE')\n",
        "plt.gca().spines[['top', 'right',]].set_visible(False)"
      ],
      "cell_type": "code",
      "execution_count": null,
      "outputs": [
        {
          "output_type": "display_data",
          "data": {
            "text/plain": [
              "<Figure size 640x480 with 1 Axes>"
            ],
            "image/png": "[encoded data removed]"
          },
          "metadata": {}
        }
      ],
      "metadata": {
        "id": "58tUJsy31BFa",
        "outputId": "53f61b34-59aa-47a0-b73e-6004c8b16a78",
        "colab": {
          "base_uri": "https://localhost:8080/",
          "height": 452
        },
        "cellView": "form"
      }
    },
    {
      "cell_type": "code",
      "source": [
        "# @title eTIV\n",
        "\n",
        "dataframe['eTIV'].plot(kind='hist', bins=20, title='eTIV')\n",
        "plt.gca().spines[['top', 'right',]].set_visible(False)"
      ],
      "metadata": {
        "cellView": "form",
        "colab": {
          "base_uri": "https://localhost:8080/",
          "height": 452
        },
        "id": "UqOimDiPqckW",
        "outputId": "b3e2de95-2d04-462c-af54-77e6bb5a0149"
      },
      "execution_count": null,
      "outputs": [
        {
          "output_type": "display_data",
          "data": {
            "text/plain": [
              "<Figure size 640x480 with 1 Axes>"
            ],
            "image/png": "[encoded data removed]"
          },
          "metadata": {}
        }
      ]
    },
    {
      "cell_type": "code",
      "source": [
        "# @title nWBV\n",
        "\n",
        "dataframe['nWBV'].plot(kind='hist', bins=20, title='nWBV')\n",
        "plt.gca().spines[['top', 'right',]].set_visible(False)"
      ],
      "metadata": {
        "cellView": "form",
        "colab": {
          "base_uri": "https://localhost:8080/",
          "height": 452
        },
        "id": "XMZA20O1q0Kf",
        "outputId": "65347bcf-82a7-4548-a87d-9c749fc79a94"
      },
      "execution_count": null,
      "outputs": [
        {
          "output_type": "display_data",
          "data": {
            "text/plain": [
              "<Figure size 640x480 with 1 Axes>"
            ],
            "image/png": "[encoded data removed]"
          },
          "metadata": {}
        }
      ]
    },
    {
      "cell_type": "code",
      "source": [
        "# @title ASF\n",
        "\n",
        "dataframe['ASF'].plot(kind='hist', bins=20, title='ASF')\n",
        "plt.gca().spines[['top', 'right',]].set_visible(False)"
      ],
      "metadata": {
        "cellView": "form",
        "colab": {
          "base_uri": "https://localhost:8080/",
          "height": 452
        },
        "id": "Z5GaMkQ3q_Ln",
        "outputId": "9541892d-9f14-412a-c217-5692b10a86f8"
      },
      "execution_count": null,
      "outputs": [
        {
          "output_type": "display_data",
          "data": {
            "text/plain": [
              "<Figure size 640x480 with 1 Axes>"
            ],
            "image/png": "[encoded data removed]"
          },
          "metadata": {}
        }
      ]
    },
    {
      "cell_type": "markdown",
      "source": [
        "# Data Cleaning\n",
        "## Remove Missing Values\n",
        "\n",
        "As seen before, the SES and MMSE columns contain missing values. First, we'll check whether or not the data for these columns is normally distrubuted using the Shapiro-Wilk test."
      ],
      "metadata": {
        "id": "GXfD8I4V7blc"
      }
    },
    {
      "cell_type": "code",
      "source": [
        "stat, p_value = shapiro(dataframe['SES'])\n",
        "\n",
        "print('Shapiro-Wilk test for SES:')\n",
        "if p_value < 0.05:\n",
        "    print(\"The data is not normally distributed.\")\n",
        "else:\n",
        "    print(\"The data appears to be normally distributed.\")\n",
        "\n",
        "stat, p_value = shapiro(dataframe['MMSE'])\n",
        "\n",
        "print('Shapiro-Wilk test for MMSE:')\n",
        "if p_value < 0.05:\n",
        "    print(\"The data is not normally distributed.\")\n",
        "else:\n",
        "    print(\"The data appears to be normally distributed.\")\n",
        "\n",
        "\n",
        "    ## Since the data in both columns is normally distributed, we can either perform median or mean imputation.\n",
        "dataframe['SES'].fillna(dataframe['SES'].mean(), inplace=True)\n",
        "dataframe['MMSE'].fillna(dataframe['MMSE'].mean(), inplace=True)\n",
        "\n",
        "\n"
      ],
      "metadata": {
        "id": "GEDFpedwad2v",
        "colab": {
          "base_uri": "https://localhost:8080/"
        },
        "outputId": "0d515be0-7286-4363-a5c3-3910bb8cd4cc"
      },
      "execution_count": null,
      "outputs": [
        {
          "output_type": "stream",
          "name": "stdout",
          "text": [
            "Shapiro-Wilk test for SES:\n",
            "The data appears to be normally distributed.\n",
            "Shapiro-Wilk test for MMSE:\n",
            "The data appears to be normally distributed.\n"
          ]
        }
      ]
    }
  ]
}