{
  "nbformat": 4,
  "nbformat_minor": 0,
  "metadata": {
    "colab": {
      "provenance": [],
      "authorship_tag": "ABX9TyOZ5qNo2syOnvPKIGNpsmO/",
      "include_colab_link": true
    },
    "kernelspec": {
      "name": "python3",
      "display_name": "Python 3"
    },
    "language_info": {
      "name": "python"
    }
  },
  "cells": [
    {
      "cell_type": "markdown",
      "metadata": {
        "id": "view-in-github",
        "colab_type": "text"
      },
      "source": [
        "<a href=\"https://colab.research.google.com/github/arwakhalidw/2024-GP-Group6/blob/main/AlzheimerPredictor.ipynb\" target=\"_parent\"><img src=\"https://colab.research.google.com/assets/colab-badge.svg\" alt=\"Open In Colab\"/></a>"
      ]
    },
    {
      "cell_type": "code",
      "execution_count": null,
      "metadata": {
        "id": "LTC7ZLH5bBh1"
      },
      "outputs": [],
      "source": [
        "# import required libraries\n",
        "import pandas as pd\n",
        "import numpy as np"
      ]
    },
    {
      "cell_type": "code",
      "source": [
        "# read the dataset\n",
        "dataset = pd.read_csv(\"alzheimer.csv\")\n",
        "# copy the dataset\n",
        "data = dataset.copy() # to keep the original dataset unchanged"
      ],
      "metadata": {
        "id": "C67m8J2abLET"
      },
      "execution_count": null,
      "outputs": []
    },
    {
      "cell_type": "markdown",
      "source": [
        "there are 9 features, they are as follows:\n",
        "1.  Group is the Class lable\n",
        "2.  Age is the Age of the patient\n",
        "3.  EDUC are Years of Education\n",
        "4.  SES are Socioeconomic Status on a scale from 1 to 5\n",
        "5.  MMSE is Mini Mental State Examination\n",
        "6.  CDR is Clinical Dementia Rating\n",
        "7.  eTIV is Estimated total intracranial volume\n",
        "8.  nWBV is Normalize Whole Brain Volume\n",
        "9.  ASF is Atlas Scaling Factor\n",
        "\n",
        "\n",
        "\n",
        "\n",
        "\n"
      ],
      "metadata": {
        "id": "mMzCsE4BcTv9"
      }
    },
    {
      "cell_type": "code",
      "source": [],
      "metadata": {
        "id": "_UyKUKHwdsG8"
      },
      "execution_count": null,
      "outputs": []
    }
  ]
}